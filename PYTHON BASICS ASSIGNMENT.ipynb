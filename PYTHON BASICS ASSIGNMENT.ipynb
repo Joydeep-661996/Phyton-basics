{
  "nbformat": 4,
  "nbformat_minor": 0,
  "metadata": {
    "colab": {
      "provenance": []
    },
    "kernelspec": {
      "name": "python3",
      "display_name": "Python 3"
    },
    "language_info": {
      "name": "python"
    }
  },
  "cells": [
    {
      "cell_type": "markdown",
      "source": [
        "Assignment-01-Pw skills(15/02/25)"
      ],
      "metadata": {
        "id": "k6OPd6d0X1Bi"
      }
    },
    {
      "cell_type": "markdown",
      "source": [
        " 1. What is Python, and why is it popular?\n",
        "   \n",
        "   Python is a high-level, interpreted programming language known for its simplicity, readability, and versatility. It is widely used in web development, data science, machine learning, automation, and more. Python's popularity comes from:\n",
        "  •\tEasy Syntax: Resembles English, making it beginner-friendly.\n",
        "  •\tExtensive Libraries: Supports numerous built-in and third-party libraries (e.g., NumPy, Pandas, TensorFlow).\n",
        "  •\tCross-Platform: Runs on various operating systems without modification.\n",
        "  •\tLarge Community Support: Extensive documentation and active community support.\n",
        "\n",
        "2. What is an interpreter in Python?\n",
        "    \n",
        "      An interpreter is a program that executes Python code line by line instead of compiling the entire program at once. Python uses an interpreter to convert source code into machine-readable instructions dynamically.\n",
        "3. What are pre-defined keywords in Python?\n",
        "\n",
        "   Pre-defined keywords are reserved words in Python that have special meanings and cannot be used for variable names. Examples include:\n",
        "\n",
        "•\tControl flow: if, else, elif, for, while\n",
        "\n",
        "•\tData types: int, float, str, bool, list, tuple\n",
        "\n",
        "•\tFunctions and Classes: def, class, return, lambda\n",
        "\n",
        "•\tBoolean logic: True, False, None\n",
        "\n",
        "4. Can keywords be used as variable names?\n",
        "\n",
        "    No, Python keywords cannot be used as variable names because they have predefined meanings in the language.\n",
        "5. What is mutability in Python?\n",
        "    Mutability refers to whether an object’s value can be changed after creation.\n",
        "\n",
        "•\tMutable objects: Can be modified after creation (e.g., lists, dictionaries).\n",
        "\n",
        "•\tImmutable objects: Cannot be modified once created (e.g., tuples, strings, numbers).\n",
        "\n",
        "\n",
        "6. Why are lists mutable, but tuples are immutable?\n",
        "\n",
        "    •\tLists are mutable because they are designed for dynamic collections where elements can be added, removed, or changed.\n",
        "\n",
        "    •\tTuples are immutable for performance and security reasons, making them faster and preventing accidental modification.\n",
        "\n",
        "7. What is the difference between == and is operators in Python?\n",
        "\n",
        "\n",
        "   •\t== (Equality operator): Checks if values of two objects are equal.\n",
        "  \n",
        "  •\tis (Identity operator): Checks if two variables refer to the same object in memory.\n",
        "\n",
        "8. What are logical operators in Python?\n",
        "\n",
        "    Logical operators are used to combine conditional statements. The three logical operators are:\n",
        "    •\tand – Returns True if both conditions are True.\n",
        "\n",
        "    •\tor – Returns True if at least one condition is True.\n",
        "\n",
        "    •\tnot – Negates the boolean value.\n",
        "\n",
        "9. What is type casting in Python?\n",
        "\n",
        "    Type casting is the process of converting a variable from one data type to another.\n",
        "10. What is the difference between implicit and explicit type casting?\n",
        "\n",
        "    •\tImplicit type casting (automatic conversion): Python automatically converts data types when needed.\n",
        "\n",
        "    •\tExplicit type casting (manual conversion): Done using functions like int(), float(), str(), etc.\n",
        "\n",
        "11. What is the purpose of conditional statements in Python?\n",
        "\n",
        "    Conditional statements allow Python programs to make decisions based on conditions. They control the flow of execution using if, elif, and else.\n",
        "Example:\n",
        "12. How does the elif statement work?\n",
        "\n",
        "    The elif (else-if) statement allows checking multiple conditions.\n",
        "    Here, the program evaluates each condition in sequence and executes the first one that is True.\n",
        "13. What is the difference between for and while loops?\n",
        "\n",
        "    •\tfor loop: Used when the number of iterations is known. Iterates over sequences like lists, strings, and ranges.\n",
        "    -while loop: Used until a specific condition is reached.\n",
        "\n",
        "14. Describe a scenario where a while loop is more suitable than a for loop.\n",
        "\n",
        "\n",
        "  - A while loop is better when the loop must run until a certain condition is met rather than a fixed number of times.\n",
        "\n"
      ],
      "metadata": {
        "id": "_ksx09zyX9u8"
      }
    },
    {
      "cell_type": "markdown",
      "source": [
        "PRACTICAL QUESTIONS"
      ],
      "metadata": {
        "id": "6YpOoTUOJVO5"
      }
    },
    {
      "cell_type": "markdown",
      "source": [
        "Q1.Write a Python program to print \"Hello, World!"
      ],
      "metadata": {
        "id": "-INqOlN0ZoHj"
      }
    },
    {
      "cell_type": "code",
      "source": [
        "\n",
        "\n",
        "print(\"Hello, World!\")\n"
      ],
      "metadata": {
        "id": "2F3hjHhWZqJ4"
      },
      "execution_count": null,
      "outputs": []
    },
    {
      "cell_type": "markdown",
      "source": [
        "Q2. Write a Python program that displays your name and age"
      ],
      "metadata": {
        "id": "wG-z0YvHZwtK"
      }
    },
    {
      "cell_type": "code",
      "source": [
        "\n",
        "name = \"Joydeep das\"\n",
        "age = 25\n",
        "\n",
        "\n",
        "print(\"My name is\", name)\n",
        "print(\"My age is\", age)\n"
      ],
      "metadata": {
        "id": "Z7AkyJ48Z5Lf",
        "colab": {
          "base_uri": "https://localhost:8080/"
        },
        "outputId": "a77f4f10-8b25-4715-ae59-1ceab29319d7"
      },
      "execution_count": 1,
      "outputs": [
        {
          "output_type": "stream",
          "name": "stdout",
          "text": [
            "My name is Joydeep das\n",
            "My age is 25\n"
          ]
        }
      ]
    },
    {
      "cell_type": "markdown",
      "source": [
        "Q3. Write code to print all the pre-defined keywords in Python using the keyword library8"
      ],
      "metadata": {
        "id": "9qkWyfC9aPYu"
      }
    },
    {
      "cell_type": "code",
      "source": [
        "\n",
        "\n",
        "import keyword\n",
        "\n",
        "keyword.kwlist\n"
      ],
      "metadata": {
        "id": "qcrkDEoDaWh5",
        "colab": {
          "base_uri": "https://localhost:8080/"
        },
        "outputId": "72ce8c75-f3cb-48ee-b604-8d3748d63ac8"
      },
      "execution_count": 35,
      "outputs": [
        {
          "output_type": "execute_result",
          "data": {
            "text/plain": [
              "['False',\n",
              " 'None',\n",
              " 'True',\n",
              " 'and',\n",
              " 'as',\n",
              " 'assert',\n",
              " 'async',\n",
              " 'await',\n",
              " 'break',\n",
              " 'class',\n",
              " 'continue',\n",
              " 'def',\n",
              " 'del',\n",
              " 'elif',\n",
              " 'else',\n",
              " 'except',\n",
              " 'finally',\n",
              " 'for',\n",
              " 'from',\n",
              " 'global',\n",
              " 'if',\n",
              " 'import',\n",
              " 'in',\n",
              " 'is',\n",
              " 'lambda',\n",
              " 'nonlocal',\n",
              " 'not',\n",
              " 'or',\n",
              " 'pass',\n",
              " 'raise',\n",
              " 'return',\n",
              " 'try',\n",
              " 'while',\n",
              " 'with',\n",
              " 'yield']"
            ]
          },
          "metadata": {},
          "execution_count": 35
        }
      ]
    },
    {
      "cell_type": "markdown",
      "source": [
        "Q4.Write a python program to see if a given keyword is a python keyword?"
      ],
      "metadata": {
        "id": "l-FWHKV06eVs"
      }
    },
    {
      "cell_type": "code",
      "source": [
        "import keyword\n",
        "\n",
        "word = input(\"Enter a word: \")\n",
        "\n",
        "if keyword.iskeyword(word):\n",
        "    print(f\"'{word}' is a Python keyword.\")\n",
        "else:\n",
        "    print(f\"'{word}' is not a Python keyword.\")"
      ],
      "metadata": {
        "colab": {
          "base_uri": "https://localhost:8080/"
        },
        "id": "3xiyvc2z60cG",
        "outputId": "4e56f29e-68b7-4236-a589-444046f5f48d"
      },
      "execution_count": 3,
      "outputs": [
        {
          "output_type": "stream",
          "name": "stdout",
          "text": [
            "Enter a word: class\n",
            "'class' is a Python keyword.\n"
          ]
        }
      ]
    },
    {
      "cell_type": "markdown",
      "source": [
        "Q5. Create a list and tuple in Python, and demonstrate how attempting to change an element works differently\n",
        "for each."
      ],
      "metadata": {
        "id": "KDy9mcGX7kjV"
      }
    },
    {
      "cell_type": "code",
      "source": [
        "my_list = [1, 2, 3, 4]\n",
        "print(\"Original list:\", my_list)\n",
        "\n",
        "# Modifying an element in the list\n",
        "my_list[1] = 99\n",
        "print(\"Modified list:\", my_list)\n",
        "\n",
        "my_tuple = (1, 2, 3, 4)\n",
        "print(\"\\nOriginal tuple:\", my_tuple)\n",
        "\n",
        "# Attempting to modify an element in the tuple\n",
        "try:\n",
        "    my_tuple[1] = 99\n",
        "\n",
        "except TypeError as e:\n",
        "    print(\"Error:\", e)\n"
      ],
      "metadata": {
        "colab": {
          "base_uri": "https://localhost:8080/"
        },
        "id": "gZOFg_Kz77O_",
        "outputId": "a73e1d7f-6fba-4112-c084-19760990b6a5"
      },
      "execution_count": 8,
      "outputs": [
        {
          "output_type": "stream",
          "name": "stdout",
          "text": [
            "Original list: [1, 2, 3, 4]\n",
            "Modified list: [1, 99, 3, 4]\n",
            "\n",
            "Original tuple: (1, 2, 3, 4)\n",
            "Error: 'tuple' object does not support item assignment\n"
          ]
        }
      ]
    },
    {
      "cell_type": "markdown",
      "source": [
        "Q5. Write a function to demonstrate the behavior of mutable and immutable arguments."
      ],
      "metadata": {
        "id": "g7MQGtzO8ott"
      }
    },
    {
      "cell_type": "code",
      "source": [
        "def modify_values(num, my_list):\n",
        "    num += 10  # Modifying immutable integer\n",
        "    my_list.append(10)  # Modifying mutable list\n",
        "\n",
        "# Immutable argument (integer)\n",
        "x = 5\n",
        "# Mutable argument (list)\n",
        "y = [1, 2, 3]\n",
        "\n",
        "print(\"Before function call:\")\n",
        "print(\"x =\", x)\n",
        "print(\"y =\", y)\n",
        "\n",
        "modify_values(x, y)\n",
        "\n",
        "print(\"\\nAfter function call:\")\n",
        "print(\"x =\", x)\n",
        "print(\"y =\", y)"
      ],
      "metadata": {
        "colab": {
          "base_uri": "https://localhost:8080/"
        },
        "id": "KvgoB9v48rhq",
        "outputId": "6f570d6b-3798-46aa-fa96-bd7737080107"
      },
      "execution_count": 9,
      "outputs": [
        {
          "output_type": "stream",
          "name": "stdout",
          "text": [
            "Before function call:\n",
            "x = 5\n",
            "y = [1, 2, 3]\n",
            "\n",
            "After function call:\n",
            "x = 5\n",
            "y = [1, 2, 3, 10]\n"
          ]
        }
      ]
    },
    {
      "cell_type": "markdown",
      "source": [
        "Q6. Write a program that performs basic arithmetic operations on two user-input numbers"
      ],
      "metadata": {
        "id": "mIBbZ3UK9aVN"
      }
    },
    {
      "cell_type": "code",
      "source": [
        "# Get user input for two numbers\n",
        "num1 = float(input(\"Enter the first number: \"))\n",
        "num2 = float(input(\"Enter the second number: \"))\n",
        "\n",
        "# Perform arithmetic operations\n",
        "sum_result = num1 + num2\n",
        "difference = num1 - num2\n",
        "product = num1 * num2\n",
        "\n",
        "# Handle division by zero error\n",
        "if num2 != 0:\n",
        "    quotient = num1 / num2\n",
        "else:\n",
        "    quotient = \"Undefined (division by zero)\"\n",
        "\n",
        "# Display results\n",
        "print(\"\\nResults:\")\n",
        "print(f\"Addition: {num1} + {num2} = {sum_result}\")\n",
        "print(f\"Subtraction: {num1} - {num2} = {difference}\")\n",
        "print(f\"Multiplication: {num1} * {num2} = {product}\")\n",
        "print(f\"Division: {num1} / {num2} = {quotient}\")\n"
      ],
      "metadata": {
        "colab": {
          "base_uri": "https://localhost:8080/"
        },
        "id": "8j4yssqU9_i8",
        "outputId": "869c3be0-9ce4-4f84-8c05-b598bcda4149"
      },
      "execution_count": 10,
      "outputs": [
        {
          "output_type": "stream",
          "name": "stdout",
          "text": [
            "Enter the first number: 156\n",
            "Enter the second number: 44\n",
            "\n",
            "Results:\n",
            "Addition: 156.0 + 44.0 = 200.0\n",
            "Subtraction: 156.0 - 44.0 = 112.0\n",
            "Multiplication: 156.0 * 44.0 = 6864.0\n",
            "Division: 156.0 / 44.0 = 3.5454545454545454\n"
          ]
        }
      ]
    },
    {
      "cell_type": "markdown",
      "source": [
        " Q7. Write a program to demonstrate the use of logical operators."
      ],
      "metadata": {
        "id": "08xF6he4_K81"
      }
    },
    {
      "cell_type": "code",
      "source": [
        "# Get user input\n",
        "a = int(input(\"Enter first number: \"))\n",
        "b = int(input(\"Enter second number: \"))\n",
        "\n",
        "# Logical AND\n",
        "print(\"\\nLogical AND:\")\n",
        "print(f\"Both numbers are positive: {a > 0 and b > 0}\")\n",
        "\n",
        "# Logical OR\n",
        "print(\"\\nLogical OR:\")\n",
        "print(f\"At least one number is positive: {a > 0 or b > 0}\")\n",
        "\n",
        "# Logical NOT\n",
        "print(\"\\nLogical NOT:\")\n",
        "print(f\"First number is not positive: {not (a > 0)}\")\n",
        "print(f\"Second number is not positive: {not (b > 0)}\")\n"
      ],
      "metadata": {
        "colab": {
          "base_uri": "https://localhost:8080/"
        },
        "id": "O6gwAg4s_gRG",
        "outputId": "ee60804f-c382-42ac-cc77-269507fa06b2"
      },
      "execution_count": 11,
      "outputs": [
        {
          "output_type": "stream",
          "name": "stdout",
          "text": [
            "Enter first number: 45\n",
            "Enter second number: 23\n",
            "\n",
            "Logical AND:\n",
            "Both numbers are positive: True\n",
            "\n",
            "Logical OR:\n",
            "At least one number is positive: True\n",
            "\n",
            "Logical NOT:\n",
            "First number is not positive: False\n",
            "Second number is not positive: False\n"
          ]
        }
      ]
    },
    {
      "cell_type": "markdown",
      "source": [],
      "metadata": {
        "id": "hvR85AZi9gnB"
      }
    },
    {
      "cell_type": "markdown",
      "source": [
        "Q8. Write a Python program to convert user input from string to integer, float, and boolean types."
      ],
      "metadata": {
        "id": "l_kfZhMz_uGf"
      }
    },
    {
      "cell_type": "code",
      "source": [
        "# Get user input as a string\n",
        "user_input = input(\"Enter a value: \")\n",
        "\n",
        "# Convert to integer (if possible)\n",
        "try:\n",
        "    int_value = int(user_input)\n",
        "except ValueError:\n",
        "    int_value = \"Cannot convert to integer\"\n",
        "\n",
        "# Convert to float (if possible)\n",
        "try:\n",
        "    float_value = float(user_input)\n",
        "except ValueError:\n",
        "    float_value = \"Cannot convert to float\"\n",
        "\n",
        "# Convert to boolean\n",
        "bool_value = bool(user_input)  # Any non-empty string is True\n",
        "\n",
        "# Display results\n",
        "print(\"\\nConverted values:\")\n",
        "print(f\"Integer: {int_value}\")\n",
        "print(f\"Float: {float_value}\")\n",
        "print(f\"Boolean: {bool_value}\")\n"
      ],
      "metadata": {
        "colab": {
          "base_uri": "https://localhost:8080/"
        },
        "id": "Xk5k8BvZ_zul",
        "outputId": "52c17347-f5cf-495f-98e5-e67bcf642ed2"
      },
      "execution_count": 15,
      "outputs": [
        {
          "output_type": "stream",
          "name": "stdout",
          "text": [
            "Enter a value: 0\n",
            "\n",
            "Converted values:\n",
            "Integer: 0\n",
            "Float: 0.0\n",
            "Boolean: True\n"
          ]
        }
      ]
    },
    {
      "cell_type": "markdown",
      "source": [
        "Q9. Write code to demonstrate type casting with list elements."
      ],
      "metadata": {
        "id": "Nh0SLVdVAwRK"
      }
    },
    {
      "cell_type": "code",
      "source": [
        "# List of string numbers\n",
        "str_list = [\"10\", \"20\", \"30\", \"40.5\", \"50.7\"]\n",
        "\n",
        "# Convert to integer list\n",
        "\n",
        "int_list = [int(float(x)) for x in str_list]\n",
        "\n",
        "# Convert to float list\n",
        "float_list = [float(x) for x in str_list]\n",
        "\n",
        "# Convert to boolean list\n",
        "bool_list = [bool(x) for x in str_list]\n",
        "\n",
        "# Print results\n",
        "print(\"\\nOriginal list:\", str_list)\n",
        "print(\"Converted to integers:\", int_list)\n",
        "print(\"Converted to floats:\", float_list)\n",
        "print(\"Converted to booleans:\", bool_list)"
      ],
      "metadata": {
        "colab": {
          "base_uri": "https://localhost:8080/"
        },
        "id": "cp8MHeuoBmhG",
        "outputId": "4c21ef16-f4ec-4e97-a5f0-4d946f5c8660"
      },
      "execution_count": 18,
      "outputs": [
        {
          "output_type": "stream",
          "name": "stdout",
          "text": [
            "\n",
            "Original list: ['10', '20', '30', '40.5', '50.7']\n",
            "Converted to integers: [10, 20, 30, 40, 50]\n",
            "Converted to floats: [10.0, 20.0, 30.0, 40.5, 50.7]\n",
            "Converted to booleans: [True, True, True, True, True]\n"
          ]
        }
      ]
    },
    {
      "cell_type": "markdown",
      "source": [
        "10. Write a program that checks if a number is positive, negative, or zero."
      ],
      "metadata": {
        "id": "RqTcjEyqCH6l"
      }
    },
    {
      "cell_type": "code",
      "source": [
        "num = float(input(\"Enter a number: \"))\n",
        "\n",
        "# Check if the number is positive, negative, or zero\n",
        "if num > 0:\n",
        "    print(\"The number is positive.\")\n",
        "elif num < 0:\n",
        "    print(\"The number is negative.\")\n",
        "else:\n",
        "    print(\"The number is zero.\")\n"
      ],
      "metadata": {
        "colab": {
          "base_uri": "https://localhost:8080/"
        },
        "id": "YQgQdmw1COzW",
        "outputId": "21cca132-5e38-4f3c-8584-2059d114d079"
      },
      "execution_count": 19,
      "outputs": [
        {
          "output_type": "stream",
          "name": "stdout",
          "text": [
            "Enter a number: -8\n",
            "The number is negative.\n"
          ]
        }
      ]
    },
    {
      "cell_type": "markdown",
      "source": [
        "Q11. Write a for loop to print numbers from 1 to 10."
      ],
      "metadata": {
        "id": "ODY4_HQvDQnb"
      }
    },
    {
      "cell_type": "code",
      "source": [
        "# Using a for loop to print numbers from 1 to 10\n",
        "for num in range(1, 11):\n",
        "    print(num)\n"
      ],
      "metadata": {
        "colab": {
          "base_uri": "https://localhost:8080/"
        },
        "id": "TCirCQNHDWDo",
        "outputId": "2b6f27ea-e3e9-4d8a-f94d-37837a1451c9"
      },
      "execution_count": 21,
      "outputs": [
        {
          "output_type": "stream",
          "name": "stdout",
          "text": [
            "1\n",
            "2\n",
            "3\n",
            "4\n",
            "5\n",
            "6\n",
            "7\n",
            "8\n",
            "9\n",
            "10\n"
          ]
        }
      ]
    },
    {
      "cell_type": "markdown",
      "source": [
        "12. Write a Python program to find the sum of all even numbers between 1 and 50"
      ],
      "metadata": {
        "id": "6uHp0Pf_DcxB"
      }
    },
    {
      "cell_type": "code",
      "source": [
        "sum_even = 0\n",
        "\n",
        "# Loop through even numbers from 2 to 50\n",
        "for num in range(2, 51, 2):\n",
        "    sum_even += num\n",
        "\n",
        "\n",
        "print(\"Sum of all even numbers between 1 and 50:\", sum_even)\n"
      ],
      "metadata": {
        "colab": {
          "base_uri": "https://localhost:8080/"
        },
        "id": "25DccwK_D1Y_",
        "outputId": "4af146c9-d2e9-4082-93f1-61d35c04077d"
      },
      "execution_count": 24,
      "outputs": [
        {
          "output_type": "stream",
          "name": "stdout",
          "text": [
            "Sum of all even numbers between 1 and 50: 650\n"
          ]
        }
      ]
    },
    {
      "cell_type": "markdown",
      "source": [
        "13. Write a program to reverse a string using a while loop"
      ],
      "metadata": {
        "id": "KjR4CRn5EaJ-"
      }
    },
    {
      "cell_type": "code",
      "source": [
        "text = input(\"Enter a string: \")\n",
        "\n",
        "reversed_text = \"\"\n",
        "index = len(text) - 1  # Start from the last character\n",
        "\n",
        "# Use while loop to reverse the string\n",
        "while index >= 0:\n",
        "    reversed_text += text[index]\n",
        "    index -= 1\n",
        "\n",
        "\n",
        "print(\"Reversed string:\", reversed_text)\n"
      ],
      "metadata": {
        "colab": {
          "base_uri": "https://localhost:8080/"
        },
        "id": "ql-zVLMtEeCb",
        "outputId": "c821a4f7-8262-475b-96ae-dae56a65743e"
      },
      "execution_count": 25,
      "outputs": [
        {
          "output_type": "stream",
          "name": "stdout",
          "text": [
            "Enter a string: joydeep\n",
            "Reversed string: peedyoj\n"
          ]
        }
      ]
    },
    {
      "cell_type": "markdown",
      "source": [
        "Q14. Write a Python program to calculate the factorial of a number provided by the user using a while loop"
      ],
      "metadata": {
        "id": "uF_3E_ZVFdPm"
      }
    },
    {
      "cell_type": "code",
      "source": [
        "num = int(input(\"Enter a number: \"))\n",
        "\n",
        "factorial = 1\n",
        "i = num\n",
        "\n",
        "# Calculate factorial using a while loop\n",
        "while i > 0:\n",
        "    factorial *= i\n",
        "    i = (i- 1)  # Decrease counter\n",
        "\n",
        "\n",
        "print(f\"Factorial of {num} is {factorial}\")\n"
      ],
      "metadata": {
        "colab": {
          "base_uri": "https://localhost:8080/"
        },
        "id": "zKsKNHJqFweh",
        "outputId": "b43d7e76-eaab-414b-d2db-441a6fbaa33a"
      },
      "execution_count": 34,
      "outputs": [
        {
          "output_type": "stream",
          "name": "stdout",
          "text": [
            "Enter a number: 3\n",
            "Factorial of 3 is 6\n"
          ]
        }
      ]
    }
  ]
}